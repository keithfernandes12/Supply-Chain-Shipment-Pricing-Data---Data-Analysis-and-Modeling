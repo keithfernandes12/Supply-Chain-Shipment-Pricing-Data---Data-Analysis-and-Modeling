{
 "cells": [
  {
   "cell_type": "markdown",
   "metadata": {},
   "source": [
    "# Supply Chain Shipment Pricing Data - Data Analysis and Modeling"
   ]
  },
  {
   "cell_type": "markdown",
   "metadata": {},
   "source": [
    "Dataset URL - https://www.kaggle.com/divyeshardeshana/supply-chain-shipment-pricing-data"
   ]
  },
  {
   "cell_type": "code",
   "execution_count": 2,
   "metadata": {},
   "outputs": [],
   "source": [
    "import pandas as pd\n",
    "import numpy as np\n",
    "from decimal import Decimal\n",
    "import matplotlib.pyplot as plt\n",
    "import seaborn as sn\n",
    "import os\n",
    "import plotly.graph_objs as go\n",
    "import plotly.offline as py"
   ]
  },
  {
   "cell_type": "markdown",
   "metadata": {},
   "source": [
    "## 1. Loading and Understanding the Data"
   ]
  },
  {
   "cell_type": "code",
   "execution_count": 3,
   "metadata": {},
   "outputs": [
    {
     "data": {
      "text/html": [
       "<div>\n",
       "<style scoped>\n",
       "    .dataframe tbody tr th:only-of-type {\n",
       "        vertical-align: middle;\n",
       "    }\n",
       "\n",
       "    .dataframe tbody tr th {\n",
       "        vertical-align: top;\n",
       "    }\n",
       "\n",
       "    .dataframe thead th {\n",
       "        text-align: right;\n",
       "    }\n",
       "</style>\n",
       "<table border=\"1\" class=\"dataframe\">\n",
       "  <thead>\n",
       "    <tr style=\"text-align: right;\">\n",
       "      <th></th>\n",
       "      <th>ID</th>\n",
       "      <th>Project Code</th>\n",
       "      <th>PQ #</th>\n",
       "      <th>PO / SO #</th>\n",
       "      <th>ASN/DN #</th>\n",
       "      <th>Country</th>\n",
       "      <th>Managed By</th>\n",
       "      <th>Fulfill Via</th>\n",
       "      <th>Vendor INCO Term</th>\n",
       "      <th>Shipment Mode</th>\n",
       "      <th>...</th>\n",
       "      <th>Unit of Measure (Per Pack)</th>\n",
       "      <th>Line Item Quantity</th>\n",
       "      <th>Line Item Value</th>\n",
       "      <th>Pack Price</th>\n",
       "      <th>Unit Price</th>\n",
       "      <th>Manufacturing Site</th>\n",
       "      <th>First Line Designation</th>\n",
       "      <th>Weight (Kilograms)</th>\n",
       "      <th>Freight Cost (USD)</th>\n",
       "      <th>Line Item Insurance (USD)</th>\n",
       "    </tr>\n",
       "  </thead>\n",
       "  <tbody>\n",
       "    <tr>\n",
       "      <th>0</th>\n",
       "      <td>1</td>\n",
       "      <td>100-CI-T01</td>\n",
       "      <td>Pre-PQ Process</td>\n",
       "      <td>SCMS-4</td>\n",
       "      <td>ASN-8</td>\n",
       "      <td>Côte d'Ivoire</td>\n",
       "      <td>PMO - US</td>\n",
       "      <td>Direct Drop</td>\n",
       "      <td>EXW</td>\n",
       "      <td>Air</td>\n",
       "      <td>...</td>\n",
       "      <td>30</td>\n",
       "      <td>19</td>\n",
       "      <td>551.0</td>\n",
       "      <td>29.00</td>\n",
       "      <td>0.97</td>\n",
       "      <td>Ranbaxy Fine Chemicals LTD</td>\n",
       "      <td>Yes</td>\n",
       "      <td>13</td>\n",
       "      <td>780.34</td>\n",
       "      <td>NaN</td>\n",
       "    </tr>\n",
       "    <tr>\n",
       "      <th>1</th>\n",
       "      <td>3</td>\n",
       "      <td>108-VN-T01</td>\n",
       "      <td>Pre-PQ Process</td>\n",
       "      <td>SCMS-13</td>\n",
       "      <td>ASN-85</td>\n",
       "      <td>Vietnam</td>\n",
       "      <td>PMO - US</td>\n",
       "      <td>Direct Drop</td>\n",
       "      <td>EXW</td>\n",
       "      <td>Air</td>\n",
       "      <td>...</td>\n",
       "      <td>240</td>\n",
       "      <td>1000</td>\n",
       "      <td>6200.0</td>\n",
       "      <td>6.20</td>\n",
       "      <td>0.03</td>\n",
       "      <td>Aurobindo Unit III, India</td>\n",
       "      <td>Yes</td>\n",
       "      <td>358</td>\n",
       "      <td>4521.5</td>\n",
       "      <td>NaN</td>\n",
       "    </tr>\n",
       "    <tr>\n",
       "      <th>2</th>\n",
       "      <td>4</td>\n",
       "      <td>100-CI-T01</td>\n",
       "      <td>Pre-PQ Process</td>\n",
       "      <td>SCMS-20</td>\n",
       "      <td>ASN-14</td>\n",
       "      <td>Côte d'Ivoire</td>\n",
       "      <td>PMO - US</td>\n",
       "      <td>Direct Drop</td>\n",
       "      <td>FCA</td>\n",
       "      <td>Air</td>\n",
       "      <td>...</td>\n",
       "      <td>100</td>\n",
       "      <td>500</td>\n",
       "      <td>40000.0</td>\n",
       "      <td>80.00</td>\n",
       "      <td>0.80</td>\n",
       "      <td>ABBVIE GmbH &amp; Co.KG Wiesbaden</td>\n",
       "      <td>Yes</td>\n",
       "      <td>171</td>\n",
       "      <td>1653.78</td>\n",
       "      <td>NaN</td>\n",
       "    </tr>\n",
       "    <tr>\n",
       "      <th>3</th>\n",
       "      <td>15</td>\n",
       "      <td>108-VN-T01</td>\n",
       "      <td>Pre-PQ Process</td>\n",
       "      <td>SCMS-78</td>\n",
       "      <td>ASN-50</td>\n",
       "      <td>Vietnam</td>\n",
       "      <td>PMO - US</td>\n",
       "      <td>Direct Drop</td>\n",
       "      <td>EXW</td>\n",
       "      <td>Air</td>\n",
       "      <td>...</td>\n",
       "      <td>60</td>\n",
       "      <td>31920</td>\n",
       "      <td>127360.8</td>\n",
       "      <td>3.99</td>\n",
       "      <td>0.07</td>\n",
       "      <td>Ranbaxy, Paonta Shahib, India</td>\n",
       "      <td>Yes</td>\n",
       "      <td>1855</td>\n",
       "      <td>16007.06</td>\n",
       "      <td>NaN</td>\n",
       "    </tr>\n",
       "    <tr>\n",
       "      <th>4</th>\n",
       "      <td>16</td>\n",
       "      <td>108-VN-T01</td>\n",
       "      <td>Pre-PQ Process</td>\n",
       "      <td>SCMS-81</td>\n",
       "      <td>ASN-55</td>\n",
       "      <td>Vietnam</td>\n",
       "      <td>PMO - US</td>\n",
       "      <td>Direct Drop</td>\n",
       "      <td>EXW</td>\n",
       "      <td>Air</td>\n",
       "      <td>...</td>\n",
       "      <td>60</td>\n",
       "      <td>38000</td>\n",
       "      <td>121600.0</td>\n",
       "      <td>3.20</td>\n",
       "      <td>0.05</td>\n",
       "      <td>Aurobindo Unit III, India</td>\n",
       "      <td>Yes</td>\n",
       "      <td>7590</td>\n",
       "      <td>45450.08</td>\n",
       "      <td>NaN</td>\n",
       "    </tr>\n",
       "  </tbody>\n",
       "</table>\n",
       "<p>5 rows × 33 columns</p>\n",
       "</div>"
      ],
      "text/plain": [
       "   ID Project Code            PQ # PO / SO # ASN/DN #        Country  \\\n",
       "0   1   100-CI-T01  Pre-PQ Process    SCMS-4    ASN-8  Côte d'Ivoire   \n",
       "1   3   108-VN-T01  Pre-PQ Process   SCMS-13   ASN-85        Vietnam   \n",
       "2   4   100-CI-T01  Pre-PQ Process   SCMS-20   ASN-14  Côte d'Ivoire   \n",
       "3  15   108-VN-T01  Pre-PQ Process   SCMS-78   ASN-50        Vietnam   \n",
       "4  16   108-VN-T01  Pre-PQ Process   SCMS-81   ASN-55        Vietnam   \n",
       "\n",
       "  Managed By  Fulfill Via Vendor INCO Term Shipment Mode  ...  \\\n",
       "0   PMO - US  Direct Drop              EXW           Air  ...   \n",
       "1   PMO - US  Direct Drop              EXW           Air  ...   \n",
       "2   PMO - US  Direct Drop              FCA           Air  ...   \n",
       "3   PMO - US  Direct Drop              EXW           Air  ...   \n",
       "4   PMO - US  Direct Drop              EXW           Air  ...   \n",
       "\n",
       "  Unit of Measure (Per Pack) Line Item Quantity Line Item Value Pack Price  \\\n",
       "0                         30                 19           551.0      29.00   \n",
       "1                        240               1000          6200.0       6.20   \n",
       "2                        100                500         40000.0      80.00   \n",
       "3                         60              31920        127360.8       3.99   \n",
       "4                         60              38000        121600.0       3.20   \n",
       "\n",
       "  Unit Price             Manufacturing Site First Line Designation  \\\n",
       "0       0.97     Ranbaxy Fine Chemicals LTD                    Yes   \n",
       "1       0.03      Aurobindo Unit III, India                    Yes   \n",
       "2       0.80  ABBVIE GmbH & Co.KG Wiesbaden                    Yes   \n",
       "3       0.07  Ranbaxy, Paonta Shahib, India                    Yes   \n",
       "4       0.05      Aurobindo Unit III, India                    Yes   \n",
       "\n",
       "  Weight (Kilograms) Freight Cost (USD) Line Item Insurance (USD)  \n",
       "0                 13             780.34                       NaN  \n",
       "1                358             4521.5                       NaN  \n",
       "2                171            1653.78                       NaN  \n",
       "3               1855           16007.06                       NaN  \n",
       "4               7590           45450.08                       NaN  \n",
       "\n",
       "[5 rows x 33 columns]"
      ]
     },
     "execution_count": 3,
     "metadata": {},
     "output_type": "execute_result"
    }
   ],
   "source": [
    "DataSet = pd.read_csv('SCMS_Delivery_History_Dataset.csv')\n",
    "DataSet.head()"
   ]
  },
  {
   "cell_type": "code",
   "execution_count": 4,
   "metadata": {},
   "outputs": [
    {
     "data": {
      "text/plain": [
       "ID                                int64\n",
       "Project Code                     object\n",
       "PQ #                             object\n",
       "PO / SO #                        object\n",
       "ASN/DN #                         object\n",
       "Country                          object\n",
       "Managed By                       object\n",
       "Fulfill Via                      object\n",
       "Vendor INCO Term                 object\n",
       "Shipment Mode                    object\n",
       "PQ First Sent to Client Date     object\n",
       "PO Sent to Vendor Date           object\n",
       "Scheduled Delivery Date          object\n",
       "Delivered to Client Date         object\n",
       "Delivery Recorded Date           object\n",
       "Product Group                    object\n",
       "Sub Classification               object\n",
       "Vendor                           object\n",
       "Item Description                 object\n",
       "Molecule/Test Type               object\n",
       "Brand                            object\n",
       "Dosage                           object\n",
       "Dosage Form                      object\n",
       "Unit of Measure (Per Pack)        int64\n",
       "Line Item Quantity                int64\n",
       "Line Item Value                 float64\n",
       "Pack Price                      float64\n",
       "Unit Price                      float64\n",
       "Manufacturing Site               object\n",
       "First Line Designation           object\n",
       "Weight (Kilograms)               object\n",
       "Freight Cost (USD)               object\n",
       "Line Item Insurance (USD)       float64\n",
       "dtype: object"
      ]
     },
     "execution_count": 4,
     "metadata": {},
     "output_type": "execute_result"
    }
   ],
   "source": [
    "DataSet.dtypes"
   ]
  },
  {
   "cell_type": "markdown",
   "metadata": {},
   "source": [
    "### Top 10 countries in the dataset"
   ]
  },
  {
   "cell_type": "code",
   "execution_count": 5,
   "metadata": {},
   "outputs": [
    {
     "name": "stdout",
     "output_type": "stream",
     "text": [
      "Top 10 Country Wise Count\n",
      "Country\n",
      "South Africa     1364\n",
      "Nigeria           952\n",
      "Côte d'Ivoire     827\n",
      "Uganda            724\n",
      "Vietnam           661\n",
      "Haiti             549\n",
      "Mozambique        506\n",
      "Zimbabwe          471\n",
      "Zambia            470\n",
      "Tanzania          374\n",
      "Name: count, dtype: int64\n"
     ]
    }
   ],
   "source": [
    "DataSet = DataSet.dropna()\n",
    "ItemCount = DataSet['Country'].value_counts().nlargest(10)\n",
    "print('Top 10 Country Wise Count')\n",
    "print(ItemCount)"
   ]
  },
  {
   "cell_type": "markdown",
   "metadata": {},
   "source": [
    "### Visualizing it"
   ]
  },
  {
   "cell_type": "code",
   "execution_count": 6,
   "metadata": {},
   "outputs": [
    {
     "name": "stderr",
     "output_type": "stream",
     "text": [
      "C:\\Users\\Keith Fernandes\\AppData\\Local\\Temp\\ipykernel_17620\\870765363.py:3: FutureWarning:\n",
      "\n",
      "\n",
      "\n",
      "Passing `palette` without assigning `hue` is deprecated and will be removed in v0.14.0. Assign the `x` variable to `hue` and set `legend=False` for the same effect.\n",
      "\n",
      "\n"
     ]
    },
    {
     "data": {
      "text/plain": [
       "Text(0.5, 0, 'Country Name')"
      ]
     },
     "execution_count": 6,
     "metadata": {},
     "output_type": "execute_result"
    },
    {
     "data": {
      "image/png": "[encoded data removed]",
      "text/plain": [
       "<Figure size 2200x600 with 1 Axes>"
      ]
     },
     "metadata": {},
     "output_type": "display_data"
    }
   ],
   "source": [
    "sn.set_context(\"talk\", font_scale=1)\n",
    "plt.figure(figsize=(22,6))\n",
    "sn.countplot(x=DataSet['Country'], order= DataSet['Country'].value_counts().nlargest(10).index, palette= 'tab10')\n",
    "plt.title('Top 10 Country Wise Count \\n')\n",
    "plt.ylabel('Total Count')\n",
    "plt.xlabel('Country Name')"
   ]
  },
  {
   "cell_type": "markdown",
   "metadata": {},
   "source": [
    "## 2. Visualization and EDA\n",
    "\n",
    "### Investigating Delivery Delays"
   ]
  },
  {
   "cell_type": "code",
   "execution_count": 7,
   "metadata": {},
   "outputs": [
    {
     "data": {
      "text/html": [
       "<div>\n",
       "<style scoped>\n",
       "    .dataframe tbody tr th:only-of-type {\n",
       "        vertical-align: middle;\n",
       "    }\n",
       "\n",
       "    .dataframe tbody tr th {\n",
       "        vertical-align: top;\n",
       "    }\n",
       "\n",
       "    .dataframe thead th {\n",
       "        text-align: right;\n",
       "    }\n",
       "</style>\n",
       "<table border=\"1\" class=\"dataframe\">\n",
       "  <thead>\n",
       "    <tr style=\"text-align: right;\">\n",
       "      <th></th>\n",
       "      <th>ID</th>\n",
       "      <th>Project Code</th>\n",
       "      <th>PQ #</th>\n",
       "      <th>PO / SO #</th>\n",
       "      <th>ASN/DN #</th>\n",
       "      <th>Country</th>\n",
       "      <th>Managed By</th>\n",
       "      <th>Fulfill Via</th>\n",
       "      <th>Vendor INCO Term</th>\n",
       "      <th>Shipment Mode</th>\n",
       "      <th>...</th>\n",
       "      <th>Unit of Measure (Per Pack)</th>\n",
       "      <th>Line Item Quantity</th>\n",
       "      <th>Line Item Value</th>\n",
       "      <th>Pack Price</th>\n",
       "      <th>Unit Price</th>\n",
       "      <th>Manufacturing Site</th>\n",
       "      <th>First Line Designation</th>\n",
       "      <th>Weight (Kilograms)</th>\n",
       "      <th>Freight Cost (USD)</th>\n",
       "      <th>Line Item Insurance (USD)</th>\n",
       "    </tr>\n",
       "  </thead>\n",
       "  <tbody>\n",
       "    <tr>\n",
       "      <th>21</th>\n",
       "      <td>108</td>\n",
       "      <td>104-CI-T01</td>\n",
       "      <td>Pre-PQ Process</td>\n",
       "      <td>SCMS-698</td>\n",
       "      <td>ASN-727</td>\n",
       "      <td>Côte d'Ivoire</td>\n",
       "      <td>PMO - US</td>\n",
       "      <td>Direct Drop</td>\n",
       "      <td>CIP</td>\n",
       "      <td>Air</td>\n",
       "      <td>...</td>\n",
       "      <td>60</td>\n",
       "      <td>5513</td>\n",
       "      <td>140581.50</td>\n",
       "      <td>25.50</td>\n",
       "      <td>0.42</td>\n",
       "      <td>BMS Meymac, France</td>\n",
       "      <td>Yes</td>\n",
       "      <td>2126</td>\n",
       "      <td>Freight Included in Commodity Cost</td>\n",
       "      <td>224.93</td>\n",
       "    </tr>\n",
       "    <tr>\n",
       "      <th>22</th>\n",
       "      <td>115</td>\n",
       "      <td>108-VN-T01</td>\n",
       "      <td>Pre-PQ Process</td>\n",
       "      <td>SCMS-753</td>\n",
       "      <td>ASN-781</td>\n",
       "      <td>Vietnam</td>\n",
       "      <td>PMO - US</td>\n",
       "      <td>Direct Drop</td>\n",
       "      <td>EXW</td>\n",
       "      <td>Air</td>\n",
       "      <td>...</td>\n",
       "      <td>240</td>\n",
       "      <td>1000</td>\n",
       "      <td>1920.00</td>\n",
       "      <td>1.92</td>\n",
       "      <td>0.01</td>\n",
       "      <td>Aurobindo Unit III, India</td>\n",
       "      <td>Yes</td>\n",
       "      <td>941</td>\n",
       "      <td>4193.49</td>\n",
       "      <td>3.07</td>\n",
       "    </tr>\n",
       "    <tr>\n",
       "      <th>23</th>\n",
       "      <td>116</td>\n",
       "      <td>108-VN-T01</td>\n",
       "      <td>Pre-PQ Process</td>\n",
       "      <td>SCMS-759</td>\n",
       "      <td>ASN-632</td>\n",
       "      <td>Vietnam</td>\n",
       "      <td>PMO - US</td>\n",
       "      <td>Direct Drop</td>\n",
       "      <td>FCA</td>\n",
       "      <td>Air</td>\n",
       "      <td>...</td>\n",
       "      <td>120</td>\n",
       "      <td>500</td>\n",
       "      <td>41095.00</td>\n",
       "      <td>82.19</td>\n",
       "      <td>0.68</td>\n",
       "      <td>ABBVIE Ludwigshafen Germany</td>\n",
       "      <td>Yes</td>\n",
       "      <td>117</td>\n",
       "      <td>1767.38</td>\n",
       "      <td>65.75</td>\n",
       "    </tr>\n",
       "    <tr>\n",
       "      <th>29</th>\n",
       "      <td>161</td>\n",
       "      <td>117-ET-T01</td>\n",
       "      <td>Pre-PQ Process</td>\n",
       "      <td>SCMS-11070</td>\n",
       "      <td>ASN-916</td>\n",
       "      <td>Ethiopia</td>\n",
       "      <td>PMO - US</td>\n",
       "      <td>Direct Drop</td>\n",
       "      <td>EXW</td>\n",
       "      <td>Air</td>\n",
       "      <td>...</td>\n",
       "      <td>60</td>\n",
       "      <td>64000</td>\n",
       "      <td>99200.00</td>\n",
       "      <td>1.55</td>\n",
       "      <td>0.03</td>\n",
       "      <td>Aurobindo Unit III, India</td>\n",
       "      <td>Yes</td>\n",
       "      <td>4228</td>\n",
       "      <td>12237.61</td>\n",
       "      <td>158.72</td>\n",
       "    </tr>\n",
       "    <tr>\n",
       "      <th>32</th>\n",
       "      <td>269</td>\n",
       "      <td>108-VN-T01</td>\n",
       "      <td>Pre-PQ Process</td>\n",
       "      <td>SCMS-14190</td>\n",
       "      <td>ASN-1192</td>\n",
       "      <td>Vietnam</td>\n",
       "      <td>PMO - US</td>\n",
       "      <td>Direct Drop</td>\n",
       "      <td>EXW</td>\n",
       "      <td>Air</td>\n",
       "      <td>...</td>\n",
       "      <td>30</td>\n",
       "      <td>1000</td>\n",
       "      <td>17000.00</td>\n",
       "      <td>17.00</td>\n",
       "      <td>0.57</td>\n",
       "      <td>Gilead(Nycomed) Oranienburg DE</td>\n",
       "      <td>Yes</td>\n",
       "      <td>76</td>\n",
       "      <td>2282.57</td>\n",
       "      <td>27.20</td>\n",
       "    </tr>\n",
       "    <tr>\n",
       "      <th>...</th>\n",
       "      <td>...</td>\n",
       "      <td>...</td>\n",
       "      <td>...</td>\n",
       "      <td>...</td>\n",
       "      <td>...</td>\n",
       "      <td>...</td>\n",
       "      <td>...</td>\n",
       "      <td>...</td>\n",
       "      <td>...</td>\n",
       "      <td>...</td>\n",
       "      <td>...</td>\n",
       "      <td>...</td>\n",
       "      <td>...</td>\n",
       "      <td>...</td>\n",
       "      <td>...</td>\n",
       "      <td>...</td>\n",
       "      <td>...</td>\n",
       "      <td>...</td>\n",
       "      <td>...</td>\n",
       "      <td>...</td>\n",
       "      <td>...</td>\n",
       "    </tr>\n",
       "    <tr>\n",
       "      <th>10319</th>\n",
       "      <td>86818</td>\n",
       "      <td>103-ZW-T30</td>\n",
       "      <td>FPQ-15197</td>\n",
       "      <td>SO-50020</td>\n",
       "      <td>DN-4307</td>\n",
       "      <td>Zimbabwe</td>\n",
       "      <td>PMO - US</td>\n",
       "      <td>From RDC</td>\n",
       "      <td>N/A - From RDC</td>\n",
       "      <td>Truck</td>\n",
       "      <td>...</td>\n",
       "      <td>60</td>\n",
       "      <td>166571</td>\n",
       "      <td>599655.60</td>\n",
       "      <td>3.60</td>\n",
       "      <td>0.06</td>\n",
       "      <td>Mylan,  H-12 &amp; H-13, India</td>\n",
       "      <td>No</td>\n",
       "      <td>See DN-4307 (ID#:83920)</td>\n",
       "      <td>See DN-4307 (ID#:83920)</td>\n",
       "      <td>705.79</td>\n",
       "    </tr>\n",
       "    <tr>\n",
       "      <th>10320</th>\n",
       "      <td>86819</td>\n",
       "      <td>104-CI-T30</td>\n",
       "      <td>FPQ-15259</td>\n",
       "      <td>SO-50102</td>\n",
       "      <td>DN-4313</td>\n",
       "      <td>Côte d'Ivoire</td>\n",
       "      <td>PMO - US</td>\n",
       "      <td>From RDC</td>\n",
       "      <td>N/A - From RDC</td>\n",
       "      <td>Truck</td>\n",
       "      <td>...</td>\n",
       "      <td>60</td>\n",
       "      <td>21072</td>\n",
       "      <td>137389.44</td>\n",
       "      <td>6.52</td>\n",
       "      <td>0.11</td>\n",
       "      <td>Hetero Unit III Hyderabad IN</td>\n",
       "      <td>No</td>\n",
       "      <td>See DN-4313 (ID#:83921)</td>\n",
       "      <td>See DN-4313 (ID#:83921)</td>\n",
       "      <td>161.71</td>\n",
       "    </tr>\n",
       "    <tr>\n",
       "      <th>10321</th>\n",
       "      <td>86821</td>\n",
       "      <td>110-ZM-T30</td>\n",
       "      <td>FPQ-14784</td>\n",
       "      <td>SO-49600</td>\n",
       "      <td>DN-4316</td>\n",
       "      <td>Zambia</td>\n",
       "      <td>PMO - US</td>\n",
       "      <td>From RDC</td>\n",
       "      <td>N/A - From RDC</td>\n",
       "      <td>Truck</td>\n",
       "      <td>...</td>\n",
       "      <td>30</td>\n",
       "      <td>514526</td>\n",
       "      <td>5140114.74</td>\n",
       "      <td>9.99</td>\n",
       "      <td>0.33</td>\n",
       "      <td>Cipla Ltd A-42 MIDC Mahar. IN</td>\n",
       "      <td>No</td>\n",
       "      <td>Weight Captured Separately</td>\n",
       "      <td>Freight Included in Commodity Cost</td>\n",
       "      <td>5284.04</td>\n",
       "    </tr>\n",
       "    <tr>\n",
       "      <th>10322</th>\n",
       "      <td>86822</td>\n",
       "      <td>200-ZW-T30</td>\n",
       "      <td>FPQ-16523</td>\n",
       "      <td>SO-51680</td>\n",
       "      <td>DN-4334</td>\n",
       "      <td>Zimbabwe</td>\n",
       "      <td>PMO - US</td>\n",
       "      <td>From RDC</td>\n",
       "      <td>N/A - From RDC</td>\n",
       "      <td>Truck</td>\n",
       "      <td>...</td>\n",
       "      <td>60</td>\n",
       "      <td>17465</td>\n",
       "      <td>113871.80</td>\n",
       "      <td>6.52</td>\n",
       "      <td>0.11</td>\n",
       "      <td>Mylan (formerly Matrix) Nashik</td>\n",
       "      <td>Yes</td>\n",
       "      <td>1392</td>\n",
       "      <td>Freight Included in Commodity Cost</td>\n",
       "      <td>134.03</td>\n",
       "    </tr>\n",
       "    <tr>\n",
       "      <th>10323</th>\n",
       "      <td>86823</td>\n",
       "      <td>103-ZW-T30</td>\n",
       "      <td>FPQ-15197</td>\n",
       "      <td>SO-50022</td>\n",
       "      <td>DN-4336</td>\n",
       "      <td>Zimbabwe</td>\n",
       "      <td>PMO - US</td>\n",
       "      <td>From RDC</td>\n",
       "      <td>N/A - From RDC</td>\n",
       "      <td>Truck</td>\n",
       "      <td>...</td>\n",
       "      <td>60</td>\n",
       "      <td>36639</td>\n",
       "      <td>72911.61</td>\n",
       "      <td>1.99</td>\n",
       "      <td>0.03</td>\n",
       "      <td>Cipla, Goa, India</td>\n",
       "      <td>No</td>\n",
       "      <td>Weight Captured Separately</td>\n",
       "      <td>Freight Included in Commodity Cost</td>\n",
       "      <td>85.82</td>\n",
       "    </tr>\n",
       "  </tbody>\n",
       "</table>\n",
       "<p>8158 rows × 33 columns</p>\n",
       "</div>"
      ],
      "text/plain": [
       "          ID Project Code            PQ #   PO / SO #  ASN/DN #  \\\n",
       "21       108   104-CI-T01  Pre-PQ Process    SCMS-698   ASN-727   \n",
       "22       115   108-VN-T01  Pre-PQ Process    SCMS-753   ASN-781   \n",
       "23       116   108-VN-T01  Pre-PQ Process    SCMS-759   ASN-632   \n",
       "29       161   117-ET-T01  Pre-PQ Process  SCMS-11070   ASN-916   \n",
       "32       269   108-VN-T01  Pre-PQ Process  SCMS-14190  ASN-1192   \n",
       "...      ...          ...             ...         ...       ...   \n",
       "10319  86818   103-ZW-T30       FPQ-15197    SO-50020   DN-4307   \n",
       "10320  86819   104-CI-T30       FPQ-15259    SO-50102   DN-4313   \n",
       "10321  86821   110-ZM-T30       FPQ-14784    SO-49600   DN-4316   \n",
       "10322  86822   200-ZW-T30       FPQ-16523    SO-51680   DN-4334   \n",
       "10323  86823   103-ZW-T30       FPQ-15197    SO-50022   DN-4336   \n",
       "\n",
       "             Country Managed By  Fulfill Via Vendor INCO Term Shipment Mode  \\\n",
       "21     Côte d'Ivoire   PMO - US  Direct Drop              CIP           Air   \n",
       "22           Vietnam   PMO - US  Direct Drop              EXW           Air   \n",
       "23           Vietnam   PMO - US  Direct Drop              FCA           Air   \n",
       "29          Ethiopia   PMO - US  Direct Drop              EXW           Air   \n",
       "32           Vietnam   PMO - US  Direct Drop              EXW           Air   \n",
       "...              ...        ...          ...              ...           ...   \n",
       "10319       Zimbabwe   PMO - US     From RDC   N/A - From RDC         Truck   \n",
       "10320  Côte d'Ivoire   PMO - US     From RDC   N/A - From RDC         Truck   \n",
       "10321         Zambia   PMO - US     From RDC   N/A - From RDC         Truck   \n",
       "10322       Zimbabwe   PMO - US     From RDC   N/A - From RDC         Truck   \n",
       "10323       Zimbabwe   PMO - US     From RDC   N/A - From RDC         Truck   \n",
       "\n",
       "       ... Unit of Measure (Per Pack) Line Item Quantity Line Item Value  \\\n",
       "21     ...                         60               5513       140581.50   \n",
       "22     ...                        240               1000         1920.00   \n",
       "23     ...                        120                500        41095.00   \n",
       "29     ...                         60              64000        99200.00   \n",
       "32     ...                         30               1000        17000.00   \n",
       "...    ...                        ...                ...             ...   \n",
       "10319  ...                         60             166571       599655.60   \n",
       "10320  ...                         60              21072       137389.44   \n",
       "10321  ...                         30             514526      5140114.74   \n",
       "10322  ...                         60              17465       113871.80   \n",
       "10323  ...                         60              36639        72911.61   \n",
       "\n",
       "      Pack Price Unit Price              Manufacturing Site  \\\n",
       "21         25.50       0.42              BMS Meymac, France   \n",
       "22          1.92       0.01       Aurobindo Unit III, India   \n",
       "23         82.19       0.68     ABBVIE Ludwigshafen Germany   \n",
       "29          1.55       0.03       Aurobindo Unit III, India   \n",
       "32         17.00       0.57  Gilead(Nycomed) Oranienburg DE   \n",
       "...          ...        ...                             ...   \n",
       "10319       3.60       0.06      Mylan,  H-12 & H-13, India   \n",
       "10320       6.52       0.11    Hetero Unit III Hyderabad IN   \n",
       "10321       9.99       0.33   Cipla Ltd A-42 MIDC Mahar. IN   \n",
       "10322       6.52       0.11  Mylan (formerly Matrix) Nashik   \n",
       "10323       1.99       0.03               Cipla, Goa, India   \n",
       "\n",
       "      First Line Designation          Weight (Kilograms)  \\\n",
       "21                       Yes                        2126   \n",
       "22                       Yes                         941   \n",
       "23                       Yes                         117   \n",
       "29                       Yes                        4228   \n",
       "32                       Yes                          76   \n",
       "...                      ...                         ...   \n",
       "10319                     No     See DN-4307 (ID#:83920)   \n",
       "10320                     No     See DN-4313 (ID#:83921)   \n",
       "10321                     No  Weight Captured Separately   \n",
       "10322                    Yes                        1392   \n",
       "10323                     No  Weight Captured Separately   \n",
       "\n",
       "                       Freight Cost (USD) Line Item Insurance (USD)  \n",
       "21     Freight Included in Commodity Cost                    224.93  \n",
       "22                                4193.49                      3.07  \n",
       "23                                1767.38                     65.75  \n",
       "29                               12237.61                    158.72  \n",
       "32                                2282.57                     27.20  \n",
       "...                                   ...                       ...  \n",
       "10319             See DN-4307 (ID#:83920)                    705.79  \n",
       "10320             See DN-4313 (ID#:83921)                    161.71  \n",
       "10321  Freight Included in Commodity Cost                   5284.04  \n",
       "10322  Freight Included in Commodity Cost                    134.03  \n",
       "10323  Freight Included in Commodity Cost                     85.82  \n",
       "\n",
       "[8158 rows x 33 columns]"
      ]
     },
     "execution_count": 7,
     "metadata": {},
     "output_type": "execute_result"
    }
   ],
   "source": [
    "DataSet"
   ]
  },
  {
   "cell_type": "code",
   "execution_count": 8,
   "metadata": {},
   "outputs": [
    {
     "name": "stdout",
     "output_type": "stream",
     "text": [
      "<class 'pandas.core.frame.DataFrame'>\n",
      "Index: 8158 entries, 21 to 10323\n",
      "Data columns (total 33 columns):\n",
      " #   Column                        Non-Null Count  Dtype  \n",
      "---  ------                        --------------  -----  \n",
      " 0   ID                            8158 non-null   int64  \n",
      " 1   Project Code                  8158 non-null   object \n",
      " 2   PQ #                          8158 non-null   object \n",
      " 3   PO / SO #                     8158 non-null   object \n",
      " 4   ASN/DN #                      8158 non-null   object \n",
      " 5   Country                       8158 non-null   object \n",
      " 6   Managed By                    8158 non-null   object \n",
      " 7   Fulfill Via                   8158 non-null   object \n",
      " 8   Vendor INCO Term              8158 non-null   object \n",
      " 9   Shipment Mode                 8158 non-null   object \n",
      " 10  PQ First Sent to Client Date  8158 non-null   object \n",
      " 11  PO Sent to Vendor Date        8158 non-null   object \n",
      " 12  Scheduled Delivery Date       8158 non-null   object \n",
      " 13  Delivered to Client Date      8158 non-null   object \n",
      " 14  Delivery Recorded Date        8158 non-null   object \n",
      " 15  Product Group                 8158 non-null   object \n",
      " 16  Sub Classification            8158 non-null   object \n",
      " 17  Vendor                        8158 non-null   object \n",
      " 18  Item Description              8158 non-null   object \n",
      " 19  Molecule/Test Type            8158 non-null   object \n",
      " 20  Brand                         8158 non-null   object \n",
      " 21  Dosage                        8158 non-null   object \n",
      " 22  Dosage Form                   8158 non-null   object \n",
      " 23  Unit of Measure (Per Pack)    8158 non-null   int64  \n",
      " 24  Line Item Quantity            8158 non-null   int64  \n",
      " 25  Line Item Value               8158 non-null   float64\n",
      " 26  Pack Price                    8158 non-null   float64\n",
      " 27  Unit Price                    8158 non-null   float64\n",
      " 28  Manufacturing Site            8158 non-null   object \n",
      " 29  First Line Designation        8158 non-null   object \n",
      " 30  Weight (Kilograms)            8158 non-null   object \n",
      " 31  Freight Cost (USD)            8158 non-null   object \n",
      " 32  Line Item Insurance (USD)     8158 non-null   float64\n",
      "dtypes: float64(4), int64(3), object(26)\n",
      "memory usage: 2.1+ MB\n"
     ]
    }
   ],
   "source": [
    "DataSet.info()"
   ]
  },
  {
   "cell_type": "code",
   "execution_count": 9,
   "metadata": {},
   "outputs": [
    {
     "name": "stdout",
     "output_type": "stream",
     "text": [
      "<class 'pandas.core.frame.DataFrame'>\n",
      "Index: 8158 entries, 21 to 10323\n",
      "Data columns (total 33 columns):\n",
      " #   Column                        Non-Null Count  Dtype         \n",
      "---  ------                        --------------  -----         \n",
      " 0   ID                            8158 non-null   int64         \n",
      " 1   Project Code                  8158 non-null   object        \n",
      " 2   PQ #                          8158 non-null   object        \n",
      " 3   PO / SO #                     8158 non-null   object        \n",
      " 4   ASN/DN #                      8158 non-null   object        \n",
      " 5   Country                       8158 non-null   object        \n",
      " 6   Managed By                    8158 non-null   object        \n",
      " 7   Fulfill Via                   8158 non-null   object        \n",
      " 8   Vendor INCO Term              8158 non-null   object        \n",
      " 9   Shipment Mode                 8158 non-null   object        \n",
      " 10  PQ First Sent to Client Date  8158 non-null   object        \n",
      " 11  PO Sent to Vendor Date        8158 non-null   object        \n",
      " 12  Scheduled Delivery Date       8158 non-null   datetime64[ns]\n",
      " 13  Delivered to Client Date      8158 non-null   datetime64[ns]\n",
      " 14  Delivery Recorded Date        8158 non-null   object        \n",
      " 15  Product Group                 8158 non-null   object        \n",
      " 16  Sub Classification            8158 non-null   object        \n",
      " 17  Vendor                        8158 non-null   object        \n",
      " 18  Item Description              8158 non-null   object        \n",
      " 19  Molecule/Test Type            8158 non-null   object        \n",
      " 20  Brand                         8158 non-null   object        \n",
      " 21  Dosage                        8158 non-null   object        \n",
      " 22  Dosage Form                   8158 non-null   object        \n",
      " 23  Unit of Measure (Per Pack)    8158 non-null   int64         \n",
      " 24  Line Item Quantity            8158 non-null   int64         \n",
      " 25  Line Item Value               8158 non-null   float64       \n",
      " 26  Pack Price                    8158 non-null   float64       \n",
      " 27  Unit Price                    8158 non-null   float64       \n",
      " 28  Manufacturing Site            8158 non-null   object        \n",
      " 29  First Line Designation        8158 non-null   object        \n",
      " 30  Weight (Kilograms)            8158 non-null   object        \n",
      " 31  Freight Cost (USD)            8158 non-null   object        \n",
      " 32  Line Item Insurance (USD)     8158 non-null   float64       \n",
      "dtypes: datetime64[ns](2), float64(4), int64(3), object(24)\n",
      "memory usage: 2.1+ MB\n"
     ]
    },
    {
     "name": "stderr",
     "output_type": "stream",
     "text": [
      "C:\\Users\\Keith Fernandes\\AppData\\Local\\Temp\\ipykernel_17620\\1619274097.py:2: UserWarning:\n",
      "\n",
      "Could not infer format, so each element will be parsed individually, falling back to `dateutil`. To ensure parsing is consistent and as-expected, please specify a format.\n",
      "\n",
      "C:\\Users\\Keith Fernandes\\AppData\\Local\\Temp\\ipykernel_17620\\1619274097.py:3: UserWarning:\n",
      "\n",
      "Could not infer format, so each element will be parsed individually, falling back to `dateutil`. To ensure parsing is consistent and as-expected, please specify a format.\n",
      "\n"
     ]
    }
   ],
   "source": [
    "# Correcting the datatypes in the dataset\n",
    "DataSet['Scheduled Delivery Date']  = pd.to_datetime(DataSet['Scheduled Delivery Date']) \n",
    "DataSet['Delivered to Client Date']  = pd.to_datetime(DataSet['Delivered to Client Date']) \n",
    "DataSet.info()"
   ]
  },
  {
   "cell_type": "code",
   "execution_count": 10,
   "metadata": {},
   "outputs": [
    {
     "data": {
      "text/plain": [
       "21        0\n",
       "22        0\n",
       "23        0\n",
       "29        0\n",
       "32        0\n",
       "         ..\n",
       "10319   -16\n",
       "10320     6\n",
       "10321    -6\n",
       "10322   -36\n",
       "10323   -27\n",
       "Name: Delivery_Delay, Length: 8158, dtype: int64"
      ]
     },
     "execution_count": 10,
     "metadata": {},
     "output_type": "execute_result"
    }
   ],
   "source": [
    "# Calculating the delay in deliveries\n",
    "DataSet['Delivery_Delay'] = DataSet['Delivered to Client Date'] - DataSet['Scheduled Delivery Date']\n",
    "DataSet['Delivery_Delay'] = DataSet['Delivery_Delay'].dt.days\n",
    "DataSet['Delivery_Delay']"
   ]
  },
  {
   "cell_type": "code",
   "execution_count": 11,
   "metadata": {},
   "outputs": [
    {
     "data": {
      "text/html": [
       "<div>\n",
       "<style scoped>\n",
       "    .dataframe tbody tr th:only-of-type {\n",
       "        vertical-align: middle;\n",
       "    }\n",
       "\n",
       "    .dataframe tbody tr th {\n",
       "        vertical-align: top;\n",
       "    }\n",
       "\n",
       "    .dataframe thead th {\n",
       "        text-align: right;\n",
       "    }\n",
       "</style>\n",
       "<table border=\"1\" class=\"dataframe\">\n",
       "  <thead>\n",
       "    <tr style=\"text-align: right;\">\n",
       "      <th></th>\n",
       "      <th>Country</th>\n",
       "      <th>Delivery_Delay</th>\n",
       "    </tr>\n",
       "  </thead>\n",
       "  <tbody>\n",
       "    <tr>\n",
       "      <th>0</th>\n",
       "      <td>Congo, DRC</td>\n",
       "      <td>15.277551</td>\n",
       "    </tr>\n",
       "    <tr>\n",
       "      <th>1</th>\n",
       "      <td>Togo</td>\n",
       "      <td>5.333333</td>\n",
       "    </tr>\n",
       "    <tr>\n",
       "      <th>2</th>\n",
       "      <td>Benin</td>\n",
       "      <td>3.700000</td>\n",
       "    </tr>\n",
       "    <tr>\n",
       "      <th>3</th>\n",
       "      <td>Senegal</td>\n",
       "      <td>1.500000</td>\n",
       "    </tr>\n",
       "    <tr>\n",
       "      <th>4</th>\n",
       "      <td>Botswana</td>\n",
       "      <td>0.666667</td>\n",
       "    </tr>\n",
       "    <tr>\n",
       "      <th>5</th>\n",
       "      <td>Afghanistan</td>\n",
       "      <td>0.000000</td>\n",
       "    </tr>\n",
       "    <tr>\n",
       "      <th>6</th>\n",
       "      <td>Malawi</td>\n",
       "      <td>0.000000</td>\n",
       "    </tr>\n",
       "    <tr>\n",
       "      <th>7</th>\n",
       "      <td>Angola</td>\n",
       "      <td>0.000000</td>\n",
       "    </tr>\n",
       "    <tr>\n",
       "      <th>8</th>\n",
       "      <td>Lebanon</td>\n",
       "      <td>0.000000</td>\n",
       "    </tr>\n",
       "    <tr>\n",
       "      <th>9</th>\n",
       "      <td>Burkina Faso</td>\n",
       "      <td>0.000000</td>\n",
       "    </tr>\n",
       "    <tr>\n",
       "      <th>10</th>\n",
       "      <td>Ghana</td>\n",
       "      <td>-0.224138</td>\n",
       "    </tr>\n",
       "    <tr>\n",
       "      <th>11</th>\n",
       "      <td>Vietnam</td>\n",
       "      <td>-0.459909</td>\n",
       "    </tr>\n",
       "    <tr>\n",
       "      <th>12</th>\n",
       "      <td>Guatemala</td>\n",
       "      <td>-1.000000</td>\n",
       "    </tr>\n",
       "    <tr>\n",
       "      <th>13</th>\n",
       "      <td>Mozambique</td>\n",
       "      <td>-1.547431</td>\n",
       "    </tr>\n",
       "    <tr>\n",
       "      <th>14</th>\n",
       "      <td>Cameroon</td>\n",
       "      <td>-1.666667</td>\n",
       "    </tr>\n",
       "    <tr>\n",
       "      <th>15</th>\n",
       "      <td>Namibia</td>\n",
       "      <td>-2.000000</td>\n",
       "    </tr>\n",
       "    <tr>\n",
       "      <th>16</th>\n",
       "      <td>Haiti</td>\n",
       "      <td>-2.679417</td>\n",
       "    </tr>\n",
       "    <tr>\n",
       "      <th>17</th>\n",
       "      <td>South Sudan</td>\n",
       "      <td>-4.423077</td>\n",
       "    </tr>\n",
       "    <tr>\n",
       "      <th>18</th>\n",
       "      <td>Ethiopia</td>\n",
       "      <td>-4.472441</td>\n",
       "    </tr>\n",
       "    <tr>\n",
       "      <th>19</th>\n",
       "      <td>Kenya</td>\n",
       "      <td>-4.750000</td>\n",
       "    </tr>\n",
       "    <tr>\n",
       "      <th>20</th>\n",
       "      <td>Tanzania</td>\n",
       "      <td>-6.074866</td>\n",
       "    </tr>\n",
       "    <tr>\n",
       "      <th>21</th>\n",
       "      <td>Rwanda</td>\n",
       "      <td>-7.020833</td>\n",
       "    </tr>\n",
       "    <tr>\n",
       "      <th>22</th>\n",
       "      <td>Côte d'Ivoire</td>\n",
       "      <td>-7.111245</td>\n",
       "    </tr>\n",
       "    <tr>\n",
       "      <th>23</th>\n",
       "      <td>Zambia</td>\n",
       "      <td>-7.427660</td>\n",
       "    </tr>\n",
       "    <tr>\n",
       "      <th>24</th>\n",
       "      <td>Uganda</td>\n",
       "      <td>-8.162983</td>\n",
       "    </tr>\n",
       "    <tr>\n",
       "      <th>25</th>\n",
       "      <td>Swaziland</td>\n",
       "      <td>-8.333333</td>\n",
       "    </tr>\n",
       "    <tr>\n",
       "      <th>26</th>\n",
       "      <td>Libya</td>\n",
       "      <td>-8.750000</td>\n",
       "    </tr>\n",
       "    <tr>\n",
       "      <th>27</th>\n",
       "      <td>Burundi</td>\n",
       "      <td>-11.500000</td>\n",
       "    </tr>\n",
       "    <tr>\n",
       "      <th>28</th>\n",
       "      <td>South Africa</td>\n",
       "      <td>-12.107771</td>\n",
       "    </tr>\n",
       "    <tr>\n",
       "      <th>29</th>\n",
       "      <td>Zimbabwe</td>\n",
       "      <td>-12.537155</td>\n",
       "    </tr>\n",
       "    <tr>\n",
       "      <th>30</th>\n",
       "      <td>Belize</td>\n",
       "      <td>-14.000000</td>\n",
       "    </tr>\n",
       "    <tr>\n",
       "      <th>31</th>\n",
       "      <td>Nigeria</td>\n",
       "      <td>-14.290966</td>\n",
       "    </tr>\n",
       "    <tr>\n",
       "      <th>32</th>\n",
       "      <td>Dominican Republic</td>\n",
       "      <td>-14.918919</td>\n",
       "    </tr>\n",
       "    <tr>\n",
       "      <th>33</th>\n",
       "      <td>Guyana</td>\n",
       "      <td>-25.858025</td>\n",
       "    </tr>\n",
       "  </tbody>\n",
       "</table>\n",
       "</div>"
      ],
      "text/plain": [
       "               Country  Delivery_Delay\n",
       "0           Congo, DRC       15.277551\n",
       "1                 Togo        5.333333\n",
       "2                Benin        3.700000\n",
       "3              Senegal        1.500000\n",
       "4             Botswana        0.666667\n",
       "5          Afghanistan        0.000000\n",
       "6               Malawi        0.000000\n",
       "7               Angola        0.000000\n",
       "8              Lebanon        0.000000\n",
       "9         Burkina Faso        0.000000\n",
       "10               Ghana       -0.224138\n",
       "11             Vietnam       -0.459909\n",
       "12           Guatemala       -1.000000\n",
       "13          Mozambique       -1.547431\n",
       "14            Cameroon       -1.666667\n",
       "15             Namibia       -2.000000\n",
       "16               Haiti       -2.679417\n",
       "17         South Sudan       -4.423077\n",
       "18            Ethiopia       -4.472441\n",
       "19               Kenya       -4.750000\n",
       "20            Tanzania       -6.074866\n",
       "21              Rwanda       -7.020833\n",
       "22       Côte d'Ivoire       -7.111245\n",
       "23              Zambia       -7.427660\n",
       "24              Uganda       -8.162983\n",
       "25           Swaziland       -8.333333\n",
       "26               Libya       -8.750000\n",
       "27             Burundi      -11.500000\n",
       "28        South Africa      -12.107771\n",
       "29            Zimbabwe      -12.537155\n",
       "30              Belize      -14.000000\n",
       "31             Nigeria      -14.290966\n",
       "32  Dominican Republic      -14.918919\n",
       "33              Guyana      -25.858025"
      ]
     },
     "execution_count": 11,
     "metadata": {},
     "output_type": "execute_result"
    }
   ],
   "source": [
    "DataSet.groupby('Country')['Delivery_Delay'].mean().sort_values(ascending= False).reset_index()"
   ]
  },
  {
   "cell_type": "markdown",
   "metadata": {},
   "source": [
    "### Total Pack Price for Top 15 Countries using Graphs"
   ]
  },
  {
   "cell_type": "code",
   "execution_count": 14,
   "metadata": {},
   "outputs": [
    {
     "name": "stdout",
     "output_type": "stream",
     "text": [
      "Total pack price for top 15 countries \n",
      "\n",
      "Country\n",
      "South Africa          23479.74\n",
      "Vietnam               11015.11\n",
      "Nigeria               10293.74\n",
      "Côte d'Ivoire         10174.96\n",
      "Uganda                 9781.99\n",
      "Mozambique             5782.10\n",
      "Haiti                  5029.42\n",
      "Tanzania               4727.47\n",
      "Zambia                 3780.12\n",
      "Rwanda                 3721.67\n",
      "Zimbabwe               3359.62\n",
      "Guyana                 2209.95\n",
      "Congo, DRC             2148.15\n",
      "Ethiopia               1202.37\n",
      "Dominican Republic     1089.23\n",
      "Name: Pack Price, dtype: float64\n"
     ]
    }
   ],
   "source": [
    "TotalPrice = DataSet.groupby(['Country'])['Pack Price'].sum().nlargest(15)\n",
    "print('Total pack price for top 15 countries \\n')\n",
    "print(TotalPrice)"
   ]
  },
  {
   "cell_type": "code",
   "execution_count": 20,
   "metadata": {},
   "outputs": [
    {
     "data": {
      "text/plain": [
       "Text(0.5, 0, 'Country Name')"
      ]
     },
     "execution_count": 20,
     "metadata": {},
     "output_type": "execute_result"
    },
    {
     "data": {
      "image/png": "[encoded data removed]",
      "text/plain": [
       "<Figure size 2200x600 with 1 Axes>"
      ]
     },
     "metadata": {},
     "output_type": "display_data"
    }
   ],
   "source": [
    "plt.figure(figsize=(22,6))\n",
    "GraphData = TotalPrice\n",
    "GraphData.plot(kind= 'bar')\n",
    "plt.ylabel('Total Pack Price')\n",
    "plt.xlabel('Country Name')"
   ]
  },
  {
   "cell_type": "markdown",
   "metadata": {},
   "source": [
    "### First Line Designation Wise Count\n",
    "First-line designation refers to medications that don't require previous treatment with other drugs, therefore gaining wider access to patients"
   ]
  },
  {
   "cell_type": "code",
   "execution_count": 29,
   "metadata": {},
   "outputs": [
    {
     "name": "stderr",
     "output_type": "stream",
     "text": [
      "C:\\Users\\Keith Fernandes\\AppData\\Local\\Temp\\ipykernel_17620\\2839472807.py:3: FutureWarning:\n",
      "\n",
      "\n",
      "\n",
      "Passing `palette` without assigning `hue` is deprecated and will be removed in v0.14.0. Assign the `x` variable to `hue` and set `legend=False` for the same effect.\n",
      "\n",
      "\n"
     ]
    },
    {
     "data": {
      "text/plain": [
       "Text(0.5, 0, 'First Line Designation')"
      ]
     },
     "execution_count": 29,
     "metadata": {},
     "output_type": "execute_result"
    },
    {
     "data": {
      "image/png": "[encoded data removed]",
      "text/plain": [
       "<Figure size 300x400 with 1 Axes>"
      ]
     },
     "metadata": {},
     "output_type": "display_data"
    }
   ],
   "source": [
    "sn.set_context(\"talk\",font_scale=.75)\n",
    "plt.figure(figsize=(3,4))\n",
    "sn.countplot(x = DataSet['First Line Designation'], order = DataSet['First Line Designation'].value_counts().index, palette= 'tab10')\n",
    "plt.title('First Line Designation Wise Count \\n')\n",
    "plt.ylabel('Total Count')\n",
    "plt.xlabel('First Line Designation')"
   ]
  },
  {
   "cell_type": "markdown",
   "metadata": {},
   "source": [
    "### Shipment Mode Percentage Wise Pie Chart"
   ]
  },
  {
   "cell_type": "code",
   "execution_count": 30,
   "metadata": {},
   "outputs": [
    {
     "data": {
      "application/vnd.plotly.v1+json": {
       "config": {
        "linkText": "Export to plot.ly",
        "plotlyServerURL": "https://plot.ly",
        "showLink": false
       },
       "data": [
        {
         "labels": [
          "Air",
          "Truck",
          "Air Charter",
          "Ocean"
         ],
         "type": "pie",
         "values": [
          53.45672959058593,
          34.07697965187546,
          7.967639127237068,
          4.498651630301544
         ]
        }
       ],
       "layout": {
        "template": {
         "data": {
          "bar": [
           {
            "error_x": {
             "color": "#2a3f5f"
            },
            "error_y": {
             "color": "#2a3f5f"
            },
            "marker": {
             "line": {
              "color": "#E5ECF6",
              "width": 0.5
             },
             "pattern": {
              "fillmode": "overlay",
              "size": 10,
              "solidity": 0.2
             }
            },
            "type": "bar"
           }
          ],
          "barpolar": [
           {
            "marker": {
             "line": {
              "color": "#E5ECF6",
              "width": 0.5
             },
             "pattern": {
              "fillmode": "overlay",
              "size": 10,
              "solidity": 0.2
             }
            },
            "type": "barpolar"
           }
          ],
          "carpet": [
           {
            "aaxis": {
             "endlinecolor": "#2a3f5f",
             "gridcolor": "white",
             "linecolor": "white",
             "minorgridcolor": "white",
             "startlinecolor": "#2a3f5f"
            },
            "baxis": {
             "endlinecolor": "#2a3f5f",
             "gridcolor": "white",
             "linecolor": "white",
             "minorgridcolor": "white",
             "startlinecolor": "#2a3f5f"
            },
            "type": "carpet"
           }
          ],
          "choropleth": [
           {
            "colorbar": {
             "outlinewidth": 0,
             "ticks": ""
            },
            "type": "choropleth"
           }
          ],
          "contour": [
           {
            "colorbar": {
             "outlinewidth": 0,
             "ticks": ""
            },
            "colorscale": [
             [
              0,
              "#0d0887"
             ],
             [
              0.1111111111111111,
              "#46039f"
             ],
             [
              0.2222222222222222,
              "#7201a8"
             ],
             [
              0.3333333333333333,
              "#9c179e"
             ],
             [
              0.4444444444444444,
              "#bd3786"
             ],
             [
              0.5555555555555556,
              "#d8576b"
             ],
             [
              0.6666666666666666,
              "#ed7953"
             ],
             [
              0.7777777777777778,
              "#fb9f3a"
             ],
             [
              0.8888888888888888,
              "#fdca26"
             ],
             [
              1,
              "#f0f921"
             ]
            ],
            "type": "contour"
           }
          ],
          "contourcarpet": [
           {
            "colorbar": {
             "outlinewidth": 0,
             "ticks": ""
            },
            "type": "contourcarpet"
           }
          ],
          "heatmap": [
           {
            "colorbar": {
             "outlinewidth": 0,
             "ticks": ""
            },
            "colorscale": [
             [
              0,
              "#0d0887"
             ],
             [
              0.1111111111111111,
              "#46039f"
             ],
             [
              0.2222222222222222,
              "#7201a8"
             ],
             [
              0.3333333333333333,
              "#9c179e"
             ],
             [
              0.4444444444444444,
              "#bd3786"
             ],
             [
              0.5555555555555556,
              "#d8576b"
             ],
             [
              0.6666666666666666,
              "#ed7953"
             ],
             [
              0.7777777777777778,
              "#fb9f3a"
             ],
             [
              0.8888888888888888,
              "#fdca26"
             ],
             [
              1,
              "#f0f921"
             ]
            ],
            "type": "heatmap"
           }
          ],
          "heatmapgl": [
           {
            "colorbar": {
             "outlinewidth": 0,
             "ticks": ""
            },
            "colorscale": [
             [
              0,
              "#0d0887"
             ],
             [
              0.1111111111111111,
              "#46039f"
             ],
             [
              0.2222222222222222,
              "#7201a8"
             ],
             [
              0.3333333333333333,
              "#9c179e"
             ],
             [
              0.4444444444444444,
              "#bd3786"
             ],
             [
              0.5555555555555556,
              "#d8576b"
             ],
             [
              0.6666666666666666,
              "#ed7953"
             ],
             [
              0.7777777777777778,
              "#fb9f3a"
             ],
             [
              0.8888888888888888,
              "#fdca26"
             ],
             [
              1,
              "#f0f921"
             ]
            ],
            "type": "heatmapgl"
           }
          ],
          "histogram": [
           {
            "marker": {
             "pattern": {
              "fillmode": "overlay",
              "size": 10,
              "solidity": 0.2
             }
            },
            "type": "histogram"
           }
          ],
          "histogram2d": [
           {
            "colorbar": {
             "outlinewidth": 0,
             "ticks": ""
            },
            "colorscale": [
             [
              0,
              "#0d0887"
             ],
             [
              0.1111111111111111,
              "#46039f"
             ],
             [
              0.2222222222222222,
              "#7201a8"
             ],
             [
              0.3333333333333333,
              "#9c179e"
             ],
             [
              0.4444444444444444,
              "#bd3786"
             ],
             [
              0.5555555555555556,
              "#d8576b"
             ],
             [
              0.6666666666666666,
              "#ed7953"
             ],
             [
              0.7777777777777778,
              "#fb9f3a"
             ],
             [
              0.8888888888888888,
              "#fdca26"
             ],
             [
              1,
              "#f0f921"
             ]
            ],
            "type": "histogram2d"
           }
          ],
          "histogram2dcontour": [
           {
            "colorbar": {
             "outlinewidth": 0,
             "ticks": ""
            },
            "colorscale": [
             [
              0,
              "#0d0887"
             ],
             [
              0.1111111111111111,
              "#46039f"
             ],
             [
              0.2222222222222222,
              "#7201a8"
             ],
             [
              0.3333333333333333,
              "#9c179e"
             ],
             [
              0.4444444444444444,
              "#bd3786"
             ],
             [
              0.5555555555555556,
              "#d8576b"
             ],
             [
              0.6666666666666666,
              "#ed7953"
             ],
             [
              0.7777777777777778,
              "#fb9f3a"
             ],
             [
              0.8888888888888888,
              "#fdca26"
             ],
             [
              1,
              "#f0f921"
             ]
            ],
            "type": "histogram2dcontour"
           }
          ],
          "mesh3d": [
           {
            "colorbar": {
             "outlinewidth": 0,
             "ticks": ""
            },
            "type": "mesh3d"
           }
          ],
          "parcoords": [
           {
            "line": {
             "colorbar": {
              "outlinewidth": 0,
              "ticks": ""
             }
            },
            "type": "parcoords"
           }
          ],
          "pie": [
           {
            "automargin": true,
            "type": "pie"
           }
          ],
          "scatter": [
           {
            "fillpattern": {
             "fillmode": "overlay",
             "size": 10,
             "solidity": 0.2
            },
            "type": "scatter"
           }
          ],
          "scatter3d": [
           {
            "line": {
             "colorbar": {
              "outlinewidth": 0,
              "ticks": ""
             }
            },
            "marker": {
             "colorbar": {
              "outlinewidth": 0,
              "ticks": ""
             }
            },
            "type": "scatter3d"
           }
          ],
          "scattercarpet": [
           {
            "marker": {
             "colorbar": {
              "outlinewidth": 0,
              "ticks": ""
             }
            },
            "type": "scattercarpet"
           }
          ],
          "scattergeo": [
           {
            "marker": {
             "colorbar": {
              "outlinewidth": 0,
              "ticks": ""
             }
            },
            "type": "scattergeo"
           }
          ],
          "scattergl": [
           {
            "marker": {
             "colorbar": {
              "outlinewidth": 0,
              "ticks": ""
             }
            },
            "type": "scattergl"
           }
          ],
          "scattermapbox": [
           {
            "marker": {
             "colorbar": {
              "outlinewidth": 0,
              "ticks": ""
             }
            },
            "type": "scattermapbox"
           }
          ],
          "scatterpolar": [
           {
            "marker": {
             "colorbar": {
              "outlinewidth": 0,
              "ticks": ""
             }
            },
            "type": "scatterpolar"
           }
          ],
          "scatterpolargl": [
           {
            "marker": {
             "colorbar": {
              "outlinewidth": 0,
              "ticks": ""
             }
            },
            "type": "scatterpolargl"
           }
          ],
          "scatterternary": [
           {
            "marker": {
             "colorbar": {
              "outlinewidth": 0,
              "ticks": ""
             }
            },
            "type": "scatterternary"
           }
          ],
          "surface": [
           {
            "colorbar": {
             "outlinewidth": 0,
             "ticks": ""
            },
            "colorscale": [
             [
              0,
              "#0d0887"
             ],
             [
              0.1111111111111111,
              "#46039f"
             ],
             [
              0.2222222222222222,
              "#7201a8"
             ],
             [
              0.3333333333333333,
              "#9c179e"
             ],
             [
              0.4444444444444444,
              "#bd3786"
             ],
             [
              0.5555555555555556,
              "#d8576b"
             ],
             [
              0.6666666666666666,
              "#ed7953"
             ],
             [
              0.7777777777777778,
              "#fb9f3a"
             ],
             [
              0.8888888888888888,
              "#fdca26"
             ],
             [
              1,
              "#f0f921"
             ]
            ],
            "type": "surface"
           }
          ],
          "table": [
           {
            "cells": {
             "fill": {
              "color": "#EBF0F8"
             },
             "line": {
              "color": "white"
             }
            },
            "header": {
             "fill": {
              "color": "#C8D4E3"
             },
             "line": {
              "color": "white"
             }
            },
            "type": "table"
           }
          ]
         },
         "layout": {
          "annotationdefaults": {
           "arrowcolor": "#2a3f5f",
           "arrowhead": 0,
           "arrowwidth": 1
          },
          "autotypenumbers": "strict",
          "coloraxis": {
           "colorbar": {
            "outlinewidth": 0,
            "ticks": ""
           }
          },
          "colorscale": {
           "diverging": [
            [
             0,
             "#8e0152"
            ],
            [
             0.1,
             "#c51b7d"
            ],
            [
             0.2,
             "#de77ae"
            ],
            [
             0.3,
             "#f1b6da"
            ],
            [
             0.4,
             "#fde0ef"
            ],
            [
             0.5,
             "#f7f7f7"
            ],
            [
             0.6,
             "#e6f5d0"
            ],
            [
             0.7,
             "#b8e186"
            ],
            [
             0.8,
             "#7fbc41"
            ],
            [
             0.9,
             "#4d9221"
            ],
            [
             1,
             "#276419"
            ]
           ],
           "sequential": [
            [
             0,
             "#0d0887"
            ],
            [
             0.1111111111111111,
             "#46039f"
            ],
            [
             0.2222222222222222,
             "#7201a8"
            ],
            [
             0.3333333333333333,
             "#9c179e"
            ],
            [
             0.4444444444444444,
             "#bd3786"
            ],
            [
             0.5555555555555556,
             "#d8576b"
            ],
            [
             0.6666666666666666,
             "#ed7953"
            ],
            [
             0.7777777777777778,
             "#fb9f3a"
            ],
            [
             0.8888888888888888,
             "#fdca26"
            ],
            [
             1,
             "#f0f921"
            ]
           ],
           "sequentialminus": [
            [
             0,
             "#0d0887"
            ],
            [
             0.1111111111111111,
             "#46039f"
            ],
            [
             0.2222222222222222,
             "#7201a8"
            ],
            [
             0.3333333333333333,
             "#9c179e"
            ],
            [
             0.4444444444444444,
             "#bd3786"
            ],
            [
             0.5555555555555556,
             "#d8576b"
            ],
            [
             0.6666666666666666,
             "#ed7953"
            ],
            [
             0.7777777777777778,
             "#fb9f3a"
            ],
            [
             0.8888888888888888,
             "#fdca26"
            ],
            [
             1,
             "#f0f921"
            ]
           ]
          },
          "colorway": [
           "#636efa",
           "#EF553B",
           "#00cc96",
           "#ab63fa",
           "#FFA15A",
           "#19d3f3",
           "#FF6692",
           "#B6E880",
           "#FF97FF",
           "#FECB52"
          ],
          "font": {
           "color": "#2a3f5f"
          },
          "geo": {
           "bgcolor": "white",
           "lakecolor": "white",
           "landcolor": "#E5ECF6",
           "showlakes": true,
           "showland": true,
           "subunitcolor": "white"
          },
          "hoverlabel": {
           "align": "left"
          },
          "hovermode": "closest",
          "mapbox": {
           "style": "light"
          },
          "paper_bgcolor": "white",
          "plot_bgcolor": "#E5ECF6",
          "polar": {
           "angularaxis": {
            "gridcolor": "white",
            "linecolor": "white",
            "ticks": ""
           },
           "bgcolor": "#E5ECF6",
           "radialaxis": {
            "gridcolor": "white",
            "linecolor": "white",
            "ticks": ""
           }
          },
          "scene": {
           "xaxis": {
            "backgroundcolor": "#E5ECF6",
            "gridcolor": "white",
            "gridwidth": 2,
            "linecolor": "white",
            "showbackground": true,
            "ticks": "",
            "zerolinecolor": "white"
           },
           "yaxis": {
            "backgroundcolor": "#E5ECF6",
            "gridcolor": "white",
            "gridwidth": 2,
            "linecolor": "white",
            "showbackground": true,
            "ticks": "",
            "zerolinecolor": "white"
           },
           "zaxis": {
            "backgroundcolor": "#E5ECF6",
            "gridcolor": "white",
            "gridwidth": 2,
            "linecolor": "white",
            "showbackground": true,
            "ticks": "",
            "zerolinecolor": "white"
           }
          },
          "shapedefaults": {
           "line": {
            "color": "#2a3f5f"
           }
          },
          "ternary": {
           "aaxis": {
            "gridcolor": "white",
            "linecolor": "white",
            "ticks": ""
           },
           "baxis": {
            "gridcolor": "white",
            "linecolor": "white",
            "ticks": ""
           },
           "bgcolor": "#E5ECF6",
           "caxis": {
            "gridcolor": "white",
            "linecolor": "white",
            "ticks": ""
           }
          },
          "title": {
           "x": 0.05
          },
          "xaxis": {
           "automargin": true,
           "gridcolor": "white",
           "linecolor": "white",
           "ticks": "",
           "title": {
            "standoff": 15
           },
           "zerolinecolor": "white",
           "zerolinewidth": 2
          },
          "yaxis": {
           "automargin": true,
           "gridcolor": "white",
           "linecolor": "white",
           "ticks": "",
           "title": {
            "standoff": 15
           },
           "zerolinecolor": "white",
           "zerolinewidth": 2
          }
         }
        },
        "title": {
         "text": "Shipment Mode"
        }
       }
      }
     },
     "metadata": {},
     "output_type": "display_data"
    }
   ],
   "source": [
    "ShippingMode = DataSet[\"Shipment Mode\"].value_counts()\n",
    "labels = (np.array(ShippingMode.index))\n",
    "sizes = (np.array((ShippingMode / ShippingMode.sum())*100))\n",
    "\n",
    "trace = go.Pie(labels=labels, values=sizes)\n",
    "layout = go.Layout(title=\"Shipment Mode\")\n",
    "dat = [trace]\n",
    "fig = go.Figure(data=dat, layout=layout)\n",
    "py.iplot(fig, filename=\"Shipment Mode\")"
   ]
  },
  {
   "cell_type": "markdown",
   "metadata": {},
   "source": [
    "### Unique Manufacturing Site Names"
   ]
  },
  {
   "cell_type": "code",
   "execution_count": 31,
   "metadata": {},
   "outputs": [
    {
     "name": "stdout",
     "output_type": "stream",
     "text": [
      "All Unique Manufacturing Site \n",
      "\n",
      "['BMS Meymac, France' 'Aurobindo Unit III, India'\n",
      " 'ABBVIE Ludwigshafen Germany' 'Gilead(Nycomed) Oranienburg DE'\n",
      " 'Ranbaxy, Paonta Shahib, India' 'Mylan (formerly Matrix) Nashik'\n",
      " 'Roche Basel' 'GSK Ware (UK)' 'Novartis Pharma AG, Switzerland'\n",
      " 'BI, Ingelheim, Germany' 'Ipca Dadra/Nagar Haveli IN' 'MSD, Haarlem, NL'\n",
      " 'Aspen-OSD, Port Elizabeth, SA' 'ABBVIE (Abbott) Logis. UK'\n",
      " 'Gland Pharma Ltd Pally Factory' 'Cipla, Goa, India'\n",
      " 'GSK Mississauga (Canada)' 'GSK Aranda' 'Hetero Unit III Hyderabad IN'\n",
      " 'ABBVIE (Abbott) France' 'Strides, Bangalore, India.'\n",
      " 'GSK Cape Town Factory (South Africa)' \"MSD Midrand, J'burg, SA\"\n",
      " 'Boehringer Ing., Koropi, GR' 'GSK Crawley'\n",
      " 'Novartis Pharma Suffern, USA' 'Micro Labs Ltd. (Brown & Burk), India'\n",
      " 'Meditab (for Cipla) Daman IN' 'Medopharm Malur Factory, INDIA'\n",
      " 'Weifa A.S., Hausmanngt. 6, P.O. Box 9113 GrÃ¸nland, 0133, Oslo, Norway'\n",
      " 'MSD Manati, Puerto Rico, (USA)'\n",
      " 'Emcure Plot No.P-2, I.T-B.T. Park, Phase II, MIDC, Hinjwadi, Pune, India'\n",
      " 'MSD Elkton USA' 'ABBVIE Labs North Chicago US'\n",
      " 'Janssen-Cilag, Latina, IT' 'Aurobindo Unit VII, IN'\n",
      " 'Micro labs, Verna, Goa, India' 'Mylan,  H-12 & H-13, India'\n",
      " 'Hetero, Jadcherla, unit 5, IN' 'Roche Madrid'\n",
      " 'Bristol-Myers Squibb Anagni IT' 'Cipla Ltd A-42 MIDC Mahar. IN'\n",
      " 'Medochemie Factory A, CY' 'Boehringer Ingelheim Roxane US'\n",
      " 'BMS Evansville, US' 'GSK, U1, Poznan, Poland'\n",
      " 'Janssen Ortho LLC, Puerto Rico' \"ABBVIE (Abbott) St. P'burg USA\"\n",
      " 'Micro Labs, Hosur, India' 'Cipla, Patalganga, India'\n",
      " 'Remedica, Limassol, Cyprus' 'Guilin OSD site, No 17, China'\n",
      " 'Cipla, Kurkumbh, India' 'GSK Barnard Castle UK'\n",
      " 'Gland Pharma, Hyderabad, IN' 'MSD Patheon, Canada'\n",
      " 'Mepro Pharm Wadhwan Unit II' 'Ranbaxy per Shasun Pharma Ltd'\n",
      " 'Ranbaxy per Shasun Pharma' 'Macleods Daman Plant INDIA']\n"
     ]
    }
   ],
   "source": [
    "UniqueItem = DataSet['Manufacturing Site'].unique()\n",
    "print(\"All Unique Manufacturing Site \\n\")\n",
    "print(UniqueItem)"
   ]
  },
  {
   "cell_type": "markdown",
   "metadata": {},
   "source": [
    "### Shipment Mode, Min and Mean Value for Air"
   ]
  },
  {
   "cell_type": "code",
   "execution_count": 32,
   "metadata": {},
   "outputs": [
    {
     "name": "stdout",
     "output_type": "stream",
     "text": [
      "The Max Air Shipment Mode is : 1000\n",
      "The Min Air Shipment is : 5\n",
      "The Mean Air Shipment is : 89.33\n"
     ]
    }
   ],
   "source": [
    "ItemData=DataSet[DataSet['Shipment Mode']=='Air']\n",
    "print (\"The Max Air Shipment Mode is :\",ItemData['Unit of Measure (Per Pack)'].max())\n",
    "print (\"The Min Air Shipment is :\",ItemData['Unit of Measure (Per Pack)'].min())\n",
    "ItemTypeMean = ItemData['Unit of Measure (Per Pack)'].mean()\n",
    "print (\"The Mean Air Shipment is :\", round(ItemTypeMean,2))"
   ]
  },
  {
   "cell_type": "markdown",
   "metadata": {},
   "source": [
    "## 3. Manufacturing Site Visualizations\n",
    "Top 10 Manufacturing Site for all Shipment Mode with Graph"
   ]
  },
  {
   "cell_type": "code",
   "execution_count": 37,
   "metadata": {},
   "outputs": [
    {
     "name": "stdout",
     "output_type": "stream",
     "text": [
      "Manufacturing Site\n",
      "Aurobindo Unit III, India         2978\n",
      "Mylan (formerly Matrix) Nashik    1407\n",
      "Hetero Unit III Hyderabad IN       868\n",
      "Cipla, Goa, India                  624\n",
      "Strides, Bangalore, India.         528\n",
      "ABBVIE Ludwigshafen Germany        350\n",
      "ABBVIE (Abbott) Logis. UK          204\n",
      "BMS Meymac, France                 129\n",
      "Aspen-OSD, Port Elizabeth, SA      125\n",
      "MSD, Haarlem, NL                   117\n",
      "dtype: int64\n"
     ]
    },
    {
     "data": {
      "text/plain": [
       "Text(0.5, 0, 'Manufacturing Site Name')"
      ]
     },
     "execution_count": 37,
     "metadata": {},
     "output_type": "execute_result"
    },
    {
     "data": {
      "image/png": "[encoded data removed]",
      "text/plain": [
       "<Figure size 2200x600 with 1 Axes>"
      ]
     },
     "metadata": {},
     "output_type": "display_data"
    }
   ],
   "source": [
    "TopTenManufacturingSite = DataSet.groupby('Manufacturing Site').size().nlargest(10)\n",
    "print(TopTenManufacturingSite)\n",
    "\n",
    "plt.figure(figsize=(22,6))\n",
    "TopTenManufacturingSite.plot(kind='bar')\n",
    "plt.title('Top 10 Manufacturing Site \\n')\n",
    "plt.ylabel('Total Count')\n",
    "plt.xlabel('Manufacturing Site Name')"
   ]
  },
  {
   "cell_type": "markdown",
   "metadata": {},
   "source": [
    "Top 10 Manufacturing Site for Air Shipment Mode"
   ]
  },
  {
   "cell_type": "code",
   "execution_count": 38,
   "metadata": {},
   "outputs": [
    {
     "name": "stdout",
     "output_type": "stream",
     "text": [
      "Top 10 Air Manufacturing Site \n",
      "\n",
      "Manufacturing Site\n",
      "Aurobindo Unit III, India         1641\n",
      "Mylan (formerly Matrix) Nashik     695\n",
      "Hetero Unit III Hyderabad IN       417\n",
      "ABBVIE Ludwigshafen Germany        281\n",
      "Cipla, Goa, India                  264\n",
      "Strides, Bangalore, India.         251\n",
      "ABBVIE (Abbott) Logis. UK          147\n",
      "MSD, Haarlem, NL                    90\n",
      "BMS Meymac, France                  83\n",
      "Aspen-OSD, Port Elizabeth, SA       80\n",
      "Name: count, dtype: int64\n"
     ]
    },
    {
     "data": {
      "image/png": "[encoded data removed]",
      "text/plain": [
       "<Figure size 2200x600 with 1 Axes>"
      ]
     },
     "metadata": {},
     "output_type": "display_data"
    }
   ],
   "source": [
    "# Top 10 Air Shipment Mode in Bar Chart\n",
    "ItemData = DataSet[DataSet['Shipment Mode']=='Air']\n",
    "DataSet[DataSet[\"Shipment Mode\"]=='Air']['Manufacturing Site'].value_counts()[0:10].to_frame().plot.bar(figsize=(22,6))\n",
    "\n",
    "plt.title('Top 10 Air Manufacturing Site\\n')\n",
    "plt.ylabel('Air Count')\n",
    "plt.xlabel('Manufacturing Site')\n",
    "\n",
    "ItemSupplier = DataSet[DataSet[\"Shipment Mode\"]=='Air']['Manufacturing Site'].value_counts()[0:10]\n",
    "print(\"Top 10 Air Manufacturing Site \\n\")\n",
    "print(ItemSupplier)"
   ]
  },
  {
   "cell_type": "markdown",
   "metadata": {},
   "source": [
    "### Shipment Mode and Pack Price in Bar Plot "
   ]
  },
  {
   "cell_type": "code",
   "execution_count": 45,
   "metadata": {},
   "outputs": [
    {
     "name": "stderr",
     "output_type": "stream",
     "text": [
      "C:\\Users\\Keith Fernandes\\AppData\\Local\\Temp\\ipykernel_17620\\2867167430.py:3: FutureWarning:\n",
      "\n",
      "\n",
      "\n",
      "Passing `palette` without assigning `hue` is deprecated and will be removed in v0.14.0. Assign the `x` variable to `hue` and set `legend=False` for the same effect.\n",
      "\n",
      "\n"
     ]
    },
    {
     "data": {
      "image/png": "[encoded data removed]",
      "text/plain": [
       "<Figure size 1200x400 with 1 Axes>"
      ]
     },
     "metadata": {},
     "output_type": "display_data"
    }
   ],
   "source": [
    "plt.subplots(figsize = (12,4))\n",
    "plt.xticks(rotation = 90)\n",
    "sn.barplot(x='Shipment Mode',y='Pack Price', data = DataSet, palette='tab10')\n",
    "plt.show()"
   ]
  },
  {
   "cell_type": "markdown",
   "metadata": {},
   "source": [
    "## Conclusion\n",
    "- Top Country for Pack Price : Nigeria - 25,620.72\n",
    "- Top Shipping Mode : Air\n",
    "- The Max Air Shipment Mode is : 1000\n",
    "- The Min Air Shipment is : 1\n",
    "- The Mean Air Shipment is : 82.35\n",
    "- Top Manufacturing Site : Aurobindo Unit III, India - 3172\n",
    "- Top Air Manufacturing Site : Aurobindo Unit III, India - 1694"
   ]
  }
 ],
 "metadata": {
  "kernelspec": {
   "display_name": "Python 3",
   "language": "python",
   "name": "python3"
  },
  "language_info": {
   "codemirror_mode": {
    "name": "ipython",
    "version": 3
   },
   "file_extension": ".py",
   "mimetype": "text/x-python",
   "name": "python",
   "nbconvert_exporter": "python",
   "pygments_lexer": "ipython3",
   "version": "3.12.4"
  }
 },
 "nbformat": 4,
 "nbformat_minor": 2
}
